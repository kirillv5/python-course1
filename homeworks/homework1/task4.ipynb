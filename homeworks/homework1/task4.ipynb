{
 "cells": [
  {
   "cell_type": "code",
   "execution_count": 8,
   "metadata": {
    "collapsed": false
   },
   "outputs": [
    {
     "name": "stdout",
     "output_type": "stream",
     "text": [
      "thereisnogravecanholdmybodydown\n",
      "a 2\n",
      "b 1\n",
      "c 1\n",
      "d 3\n",
      "e 3\n",
      "g 1\n",
      "h 2\n",
      "i 1\n",
      "l 1\n",
      "m 1\n",
      "n 3\n",
      "o 4\n",
      "r 2\n",
      "s 1\n",
      "t 1\n",
      "v 1\n",
      "w 1\n",
      "y 2\n",
      "\n"
     ]
    }
   ],
   "source": [
    "l=list(input())\n",
    "l.sort()\n",
    "l.append(' ')\n",
    "words=''\n",
    "c=1\n",
    "for i in range (0, len(l)-1):\n",
    "    if l[i]==l[i+1]:\n",
    "        c+=1\n",
    "    else:\n",
    "        words+=str(l[i]+' '+str(c)+'\\n')\n",
    "        c=1\n",
    "print(words)\n"
   ]
  }
 ],
 "metadata": {
  "kernelspec": {
   "display_name": "Python 3",
   "language": "python",
   "name": "python3"
  },
  "language_info": {
   "codemirror_mode": {
    "name": "ipython",
    "version": 3
   },
   "file_extension": ".py",
   "mimetype": "text/x-python",
   "name": "python",
   "nbconvert_exporter": "python",
   "pygments_lexer": "ipython3",
   "version": "3.4.3"
  }
 },
 "nbformat": 4,
 "nbformat_minor": 0
}
