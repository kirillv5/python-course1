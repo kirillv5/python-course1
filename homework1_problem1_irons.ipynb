{
 "cells": [
  {
   "cell_type": "code",
   "execution_count": 18,
   "metadata": {
    "collapsed": false
   },
   "outputs": [
    {
     "name": "stdout",
     "output_type": "stream",
     "text": [
      "утюг\n",
      "1442143154626455765\n",
      "1442143154626455765 утюгов\n"
     ]
    }
   ],
   "source": [
    "word=str(input())\n",
    "number=str(input())\n",
    "n=(int(number))\n",
    "c=int(number[len(number)-1])\n",
    "d=int(number[len(number)-2])\n",
    "if word=='утюг':\n",
    "    if n==1 or c==1 and d!=1:\n",
    "        print(n, \"утюг\")\n",
    "    elif 2<=n<=4 or 2<=c<=4 and d!=1:\n",
    "        print(n, \"утюга\")\n",
    "    else:\n",
    "        print(n, \"утюгов\")\n",
    "if word=='ложка':\n",
    "    if n==1 or c==1 and d!=1:\n",
    "        print(n, \"ложка\")\n",
    "    elif 2<=n<=4 or 2<=c<=4 and d!=1:\n",
    "        print(n, \"ложки\")\n",
    "    else:\n",
    "        print(n, \"ложек\")\n",
    "    "
   ]
  }
 ],
 "metadata": {
  "kernelspec": {
   "display_name": "Python 3",
   "language": "python",
   "name": "python3"
  },
  "language_info": {
   "codemirror_mode": {
    "name": "ipython",
    "version": 3
   },
   "file_extension": ".py",
   "mimetype": "text/x-python",
   "name": "python",
   "nbconvert_exporter": "python",
   "pygments_lexer": "ipython3",
   "version": "3.4.3"
  }
 },
 "nbformat": 4,
 "nbformat_minor": 0
}
